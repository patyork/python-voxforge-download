{
 "metadata": {
  "name": "",
  "signature": "sha256:ada484378a358b6d7cfbc310b8bc4068e6448e3a8da56f1d07e296a718706a47"
 },
 "nbformat": 3,
 "nbformat_minor": 0,
 "worksheets": [
  {
   "cells": [
    {
     "cell_type": "code",
     "collapsed": false,
     "input": [
      "import os\n",
      "import tarfile\n",
      "import matplotlib.pyplot as plt"
     ],
     "language": "python",
     "metadata": {},
     "outputs": [],
     "prompt_number": 14
    },
    {
     "cell_type": "code",
     "collapsed": false,
     "input": [
      "directory = '/home/pat/Projects/python-voxforge-download/512'"
     ],
     "language": "python",
     "metadata": {},
     "outputs": [],
     "prompt_number": 15
    },
    {
     "cell_type": "heading",
     "level": 2,
     "metadata": {},
     "source": [
      "Extract"
     ]
    },
    {
     "cell_type": "code",
     "collapsed": false,
     "input": [
      "def extract(tar_url, extract_path=directory):\n",
      "    print tar_url\n",
      "    tar = tarfile.open(tar_url, 'r')\n",
      "    for item in tar:\n",
      "        tar.extract(item, extract_path)"
     ],
     "language": "python",
     "metadata": {},
     "outputs": [],
     "prompt_number": 16
    },
    {
     "cell_type": "code",
     "collapsed": false,
     "input": [
      "def extract_directory(directory):\n",
      "    files =[fname for fname in os.listdir(directory) if fname.endswith('.tgz')]\n",
      "    \n",
      "    for f in files:\n",
      "        if not os.path.isdir(os.path.join(directory, f.replace('.tgz', ''))):\n",
      "            extract(os.path.join(directory, f))"
     ],
     "language": "python",
     "metadata": {},
     "outputs": [],
     "prompt_number": 17
    },
    {
     "cell_type": "code",
     "collapsed": false,
     "input": [
      "extract_directory(directory)"
     ],
     "language": "python",
     "metadata": {},
     "outputs": [
      {
       "output_type": "stream",
       "stream": "stdout",
       "text": [
        "/home/pat/Projects/python-voxforge-download/512/bjb-20120210.tgz\n",
        "/home/pat/Projects/python-voxforge-download/512/aiden11-20111102-rvp.tgz\n",
        "/home/pat/Projects/python-voxforge-download/512/akhansson-20120423-ubx.tgz\n",
        "/home/pat/Projects/python-voxforge-download/512/akiplaner-20110928-byw.tgz\n",
        "/home/pat/Projects/python-voxforge-download/512/akiplaner-20100130-nyn.tgz"
       ]
      },
      {
       "output_type": "stream",
       "stream": "stdout",
       "text": [
        "\n",
        "/home/pat/Projects/python-voxforge-download/512/akhansson-20120423-gib.tgz\n",
        "/home/pat/Projects/python-voxforge-download/512/azmisov-20140428-kfo.tgz\n",
        "/home/pat/Projects/python-voxforge-download/512/Anniepoo-20140308-bft.tgz\n",
        "/home/pat/Projects/python-voxforge-download/512/bua-20120218-vse.tgz\n",
        "/home/pat/Projects/python-voxforge-download/512/bigmbywater-20100821-atk.tgz"
       ]
      },
      {
       "output_type": "stream",
       "stream": "stdout",
       "text": [
        "\n",
        "/home/pat/Projects/python-voxforge-download/512/camdixon-20141207-aui.tgz\n",
        "/home/pat/Projects/python-voxforge-download/512/bjb-20120309.tgz\n",
        "/home/pat/Projects/python-voxforge-download/512/aahz-20100418-xhv.tgz\n",
        "/home/pat/Projects/python-voxforge-download/512/asladic-20120203-uxq.tgz\n",
        "/home/pat/Projects/python-voxforge-download/512/Anniepoo-20140308-zwy.tgz"
       ]
      },
      {
       "output_type": "stream",
       "stream": "stdout",
       "text": [
        "\n",
        "/home/pat/Projects/python-voxforge-download/512/Bahoke-20130721-hgw.tgz\n",
        "/home/pat/Projects/python-voxforge-download/512/akiplaner-20100215-chc.tgz\n",
        "/home/pat/Projects/python-voxforge-download/512/AslakKnutsen-20140314-ube.tgz\n",
        "/home/pat/Projects/python-voxforge-download/512/akiplaner-20100224-kkw.tgz\n",
        "/home/pat/Projects/python-voxforge-download/512/AslakKnutsen-20140317-yil.tgz"
       ]
      },
      {
       "output_type": "stream",
       "stream": "stdout",
       "text": [
        "\n",
        "/home/pat/Projects/python-voxforge-download/512/akiplaner-20100202-qyy.tgz\n",
        "/home/pat/Projects/python-voxforge-download/512/allison-20120707-xik.tgz\n",
        "/home/pat/Projects/python-voxforge-download/512/bebe-20100419-tst.tgz\n",
        "/home/pat/Projects/python-voxforge-download/512/asladic-20120203-dzz.tgz"
       ]
      },
      {
       "output_type": "stream",
       "stream": "stdout",
       "text": [
        "\n",
        "/home/pat/Projects/python-voxforge-download/512/camdixon-20141207-anc.tgz\n",
        "/home/pat/Projects/python-voxforge-download/512/bjb-20120330.tgz\n",
        "/home/pat/Projects/python-voxforge-download/512/Adminvox-05262006.tgz\n",
        "/home/pat/Projects/python-voxforge-download/512/BlindPilot-20100610-hnf.tgz"
       ]
      },
      {
       "output_type": "stream",
       "stream": "stdout",
       "text": [
        "\n",
        "/home/pat/Projects/python-voxforge-download/512/akhansson-20120423-okb.tgz\n",
        "/home/pat/Projects/python-voxforge-download/512/becz03-20121205-ixj.tgz\n",
        "/home/pat/Projects/python-voxforge-download/512/albert-20120314-yli.tgz\n",
        "/home/pat/Projects/python-voxforge-download/512/Artem-20121123-ebd.tgz\n",
        "/home/pat/Projects/python-voxforge-download/512/camdixon-20141207-apj.tgz"
       ]
      },
      {
       "output_type": "stream",
       "stream": "stdout",
       "text": [
        "\n",
        "/home/pat/Projects/python-voxforge-download/512/asladic-20120219-qnd.tgz\n",
        "/home/pat/Projects/python-voxforge-download/512/akiplaner-20100215-wux.tgz\n",
        "/home/pat/Projects/python-voxforge-download/512/bendauphinee-20100503-zmm.tgz\n",
        "/home/pat/Projects/python-voxforge-download/512/camdixon-20141207-ebx.tgz\n",
        "/home/pat/Projects/python-voxforge-download/512/2old2play-20110606-wlt.tgz"
       ]
      },
      {
       "output_type": "stream",
       "stream": "stdout",
       "text": [
        "\n",
        "/home/pat/Projects/python-voxforge-download/512/akiplaner-20100312-jbh.tgz\n",
        "/home/pat/Projects/python-voxforge-download/512/alopez-20101011-jsg.tgz\n",
        "/home/pat/Projects/python-voxforge-download/512/ablackball-20121113-lxs.tgz\n",
        "/home/pat/Projects/python-voxforge-download/512/akhansson-20120423-ecg.tgz\n",
        "/home/pat/Projects/python-voxforge-download/512/becz03-20121205-xvx.tgz"
       ]
      },
      {
       "output_type": "stream",
       "stream": "stdout",
       "text": [
        "\n",
        "/home/pat/Projects/python-voxforge-download/512/camdixon-20141207-bbs.tgz\n",
        "/home/pat/Projects/python-voxforge-download/512/akiplaner-20100215-dpf.tgz\n",
        "/home/pat/Projects/python-voxforge-download/512/camdixon-20141207-bra.tgz\n",
        "/home/pat/Projects/python-voxforge-download/512/azmisov-20140428-hgh.tgz\n",
        "/home/pat/Projects/python-voxforge-download/512/camdixon-20130819-xdf.tgz"
       ]
      },
      {
       "output_type": "stream",
       "stream": "stdout",
       "text": [
        "\n",
        "/home/pat/Projects/python-voxforge-download/512/asladic-20100311-bfp.tgz\n",
        "/home/pat/Projects/python-voxforge-download/512/amichaischreiber-20100507-eaj.tgz\n",
        "/home/pat/Projects/python-voxforge-download/512/bendauphinee-20100423-dtj.tgz\n",
        "/home/pat/Projects/python-voxforge-download/512/blood-20100308-gbb.tgz\n",
        "/home/pat/Projects/python-voxforge-download/512/AlexW-20110510-hzr.tgz\n",
        "/home/pat/Projects/python-voxforge-download/512/camdixon-20130819-uex.tgz"
       ]
      },
      {
       "output_type": "stream",
       "stream": "stdout",
       "text": [
        "\n",
        "/home/pat/Projects/python-voxforge-download/512/benoliver999-20100207-euk.tgz\n",
        "/home/pat/Projects/python-voxforge-download/512/bjb-20120219.tgz\n",
        "/home/pat/Projects/python-voxforge-download/512/bjb-20120226.tgz\n",
        "/home/pat/Projects/python-voxforge-download/512/buriedhope-20110121-gpm.tgz"
       ]
      },
      {
       "output_type": "stream",
       "stream": "stdout",
       "text": [
        "\n",
        "/home/pat/Projects/python-voxforge-download/512/AndreyBarrientosCostaRica-20130710-tpy.tgz\n",
        "/home/pat/Projects/python-voxforge-download/512/beez1717-20111017-yqm.tgz\n",
        "/home/pat/Projects/python-voxforge-download/512/belmontguy-20110426-geu.tgz\n",
        "/home/pat/Projects/python-voxforge-download/512/AslakKnutsen-20140314-ogu.tgz\n",
        "/home/pat/Projects/python-voxforge-download/512/BlindPilot-20100610-ulk.tgz\n",
        "/home/pat/Projects/python-voxforge-download/512/bjb-20120331.tgz"
       ]
      },
      {
       "output_type": "stream",
       "stream": "stdout",
       "text": [
        "\n",
        "/home/pat/Projects/python-voxforge-download/512/camdixon-20141207-bnr.tgz\n",
        "/home/pat/Projects/python-voxforge-download/512/abdelrahman-20100816-pvz.tgz\n",
        "/home/pat/Projects/python-voxforge-download/512/AslakKnutsen-20140317-uly.tgz\n",
        "/home/pat/Projects/python-voxforge-download/512/Bahoke-20130721-brs.tgz\n",
        "/home/pat/Projects/python-voxforge-download/512/Bahoke-20130721-zau.tgz"
       ]
      },
      {
       "output_type": "stream",
       "stream": "stdout",
       "text": [
        "\n",
        "/home/pat/Projects/python-voxforge-download/512/akiplaner-20110928-ajy.tgz\n",
        "/home/pat/Projects/python-voxforge-download/512/camdixon-20141207-fdb.tgz\n",
        "/home/pat/Projects/python-voxforge-download/512/azmisov-20140428-pdb.tgz\n",
        "/home/pat/Projects/python-voxforge-download/512/bebe-20100419-wtr.tgz\n",
        "/home/pat/Projects/python-voxforge-download/512/Airwings-20101216-vqx.tgz"
       ]
      },
      {
       "output_type": "stream",
       "stream": "stdout",
       "text": [
        "\n",
        "/home/pat/Projects/python-voxforge-download/512/AlexanderHenningDrachmann-20140108-sju.tgz\n",
        "/home/pat/Projects/python-voxforge-download/512/arthur-20130509-yjj.tgz\n",
        "/home/pat/Projects/python-voxforge-download/512/Akram-20101102-qax.tgz\n",
        "/home/pat/Projects/python-voxforge-download/512/andpyk-20140324-tix.tgz\n",
        "/home/pat/Projects/python-voxforge-download/512/asladic-20120203-eie.tgz"
       ]
      },
      {
       "output_type": "stream",
       "stream": "stdout",
       "text": [
        "\n",
        "/home/pat/Projects/python-voxforge-download/512/Bareford-20101110-qkl.tgz\n",
        "/home/pat/Projects/python-voxforge-download/512/Brozkeff-20111229-drc.tgz\n",
        "/home/pat/Projects/python-voxforge-download/512/azmisov-20140428-wjm.tgz\n",
        "/home/pat/Projects/python-voxforge-download/512/camdixon-20141207-drv.tgz\n",
        "/home/pat/Projects/python-voxforge-download/512/bjb-20120127.tgz\n",
        "/home/pat/Projects/python-voxforge-download/512/bjb-20120212.tgz"
       ]
      },
      {
       "output_type": "stream",
       "stream": "stdout",
       "text": [
        "\n",
        "/home/pat/Projects/python-voxforge-download/512/bjb-20120325.tgz\n",
        "/home/pat/Projects/python-voxforge-download/512/ariyan-20120801-gra.tgz\n",
        "/home/pat/Projects/python-voxforge-download/512/bjb-20120318.tgz\n",
        "/home/pat/Projects/python-voxforge-download/512/Buddyboy-20110710-uco.tgz"
       ]
      },
      {
       "output_type": "stream",
       "stream": "stdout",
       "text": [
        "\n",
        "/home/pat/Projects/python-voxforge-download/512/akiplaner-20100215-uvw.tgz\n",
        "/home/pat/Projects/python-voxforge-download/512/camdixon-20141207-fvp.tgz\n",
        "/home/pat/Projects/python-voxforge-download/512/atterer-02052007-vf5.tgz\n",
        "/home/pat/Projects/python-voxforge-download/512/camdixon-20130828-crl.tgz"
       ]
      },
      {
       "output_type": "stream",
       "stream": "stdout",
       "text": [
        "\n",
        "/home/pat/Projects/python-voxforge-download/512/2old2play-20110606-hcn.tgz\n",
        "/home/pat/Projects/python-voxforge-download/512/akiplaner-20100207-xzo.tgz\n",
        "/home/pat/Projects/python-voxforge-download/512/Aaron-20130527-giy.tgz\n",
        "/home/pat/Projects/python-voxforge-download/512/camdixon-20130819-ndo.tgz"
       ]
      },
      {
       "output_type": "stream",
       "stream": "stdout",
       "text": [
        "\n",
        "/home/pat/Projects/python-voxforge-download/512/Bahoke-20130721-jpg.tgz\n",
        "/home/pat/Projects/python-voxforge-download/512/brad-20100823-tki.tgz\n",
        "/home/pat/Projects/python-voxforge-download/512/camdixon-20130819-oqd.tgz\n",
        "/home/pat/Projects/python-voxforge-download/512/camdixon-20141207-dvz.tgz\n",
        "/home/pat/Projects/python-voxforge-download/512/buzzl-20100723-dmp.tgz"
       ]
      },
      {
       "output_type": "stream",
       "stream": "stdout",
       "text": [
        "\n",
        "/home/pat/Projects/python-voxforge-download/512/ae-20100821-xop.tgz\n",
        "/home/pat/Projects/python-voxforge-download/512/camdixon-20141207-els.tgz\n",
        "/home/pat/Projects/python-voxforge-download/512/azmisov-20140428-ovn.tgz\n",
        "/home/pat/Projects/python-voxforge-download/512/Akhansson-20120423-yas.tgz\n",
        "/home/pat/Projects/python-voxforge-download/512/AslakKnutsen-20140314-bje.tgz"
       ]
      },
      {
       "output_type": "stream",
       "stream": "stdout",
       "text": [
        "\n",
        "/home/pat/Projects/python-voxforge-download/512/asladic-20120203-jqc.tgz\n",
        "/home/pat/Projects/python-voxforge-download/512/AndreyBarrientosCostaRica-20130720-pxz.tgz\n",
        "/home/pat/Projects/python-voxforge-download/512/camdixon-20141207-byu.tgz\n",
        "/home/pat/Projects/python-voxforge-download/512/alienation-20120207-min.tgz\n",
        "/home/pat/Projects/python-voxforge-download/512/Alpsa-20100604-mzc.tgz\n",
        "/home/pat/Projects/python-voxforge-download/512/camdixon-20130819-rzc.tgz"
       ]
      },
      {
       "output_type": "stream",
       "stream": "stdout",
       "text": [
        "\n",
        "/home/pat/Projects/python-voxforge-download/512/anoldman-20110217-dbg.tgz\n",
        "/home/pat/Projects/python-voxforge-download/512/arjuan-20100820-acz.tgz\n",
        "/home/pat/Projects/python-voxforge-download/512/camdixon-20141207-dhp.tgz\n",
        "/home/pat/Projects/python-voxforge-download/512/bendauphinee-20100423-guj.tgz\n",
        "/home/pat/Projects/python-voxforge-download/512/camdixon-20141207-bbv.tgz"
       ]
      },
      {
       "output_type": "stream",
       "stream": "stdout",
       "text": [
        "\n",
        "/home/pat/Projects/python-voxforge-download/512/bjb-20120122.tgz\n",
        "/home/pat/Projects/python-voxforge-download/512/akhansson-20120423-mzp.tgz\n",
        "/home/pat/Projects/python-voxforge-download/512/camdixon-20141207-cun.tgz\n",
        "/home/pat/Projects/python-voxforge-download/512/AT-20130718-lws.tgz\n",
        "/home/pat/Projects/python-voxforge-download/512/bjb-20120302.tgz"
       ]
      },
      {
       "output_type": "stream",
       "stream": "stdout",
       "text": [
        "\n",
        "/home/pat/Projects/python-voxforge-download/512/camdixon-20130910-jqj.tgz\n",
        "/home/pat/Projects/python-voxforge-download/512/camdixon-20141207-dom.tgz\n",
        "/home/pat/Projects/python-voxforge-download/512/AlfredStrauss-20110812-eza.tgz\n",
        "/home/pat/Projects/python-voxforge-download/512/Anniepoo-20140308-hns.tgz\n",
        "/home/pat/Projects/python-voxforge-download/512/akiplaner-20100315-tin.tgz"
       ]
      },
      {
       "output_type": "stream",
       "stream": "stdout",
       "text": [
        "\n",
        "/home/pat/Projects/python-voxforge-download/512/Airwings-20101216-zul.tgz\n",
        "/home/pat/Projects/python-voxforge-download/512/azmisov-20140428-tqh.tgz\n",
        "/home/pat/Projects/python-voxforge-download/512/akiplaner-20110929-qug.tgz\n",
        "/home/pat/Projects/python-voxforge-download/512/Bahoke-20130721-uop.tgz"
       ]
      },
      {
       "output_type": "stream",
       "stream": "stdout",
       "text": [
        "\n",
        "/home/pat/Projects/python-voxforge-download/512/camdixon-20130819-mvp.tgz\n",
        "/home/pat/Projects/python-voxforge-download/512/camdixon-20130819-vwy.tgz\n",
        "/home/pat/Projects/python-voxforge-download/512/akiplaner-20100718-ojt.tgz\n",
        "/home/pat/Projects/python-voxforge-download/512/BlindPilot-20100610-ama.tgz\n",
        "/home/pat/Projects/python-voxforge-download/512/akiplaner-20100411-bjw.tgz"
       ]
      },
      {
       "output_type": "stream",
       "stream": "stdout",
       "text": [
        "\n",
        "/home/pat/Projects/python-voxforge-download/512/Anniepoo-20140308-cqj.tgz\n",
        "/home/pat/Projects/python-voxforge-download/512/ablackball-20121113-vvk.tgz\n",
        "/home/pat/Projects/python-voxforge-download/512/bjb-20120409-2.tgz\n",
        "/home/pat/Projects/python-voxforge-download/512/artk-20101225-kvd.tgz"
       ]
      },
      {
       "output_type": "stream",
       "stream": "stdout",
       "text": [
        "\n",
        "/home/pat/Projects/python-voxforge-download/512/AslakKnutsen-20140314-btr.tgz\n",
        "/home/pat/Projects/python-voxforge-download/512/BlindPilot-20100610-bzv.tgz\n",
        "/home/pat/Projects/python-voxforge-download/512/akiplaner-20100124-prg.tgz\n",
        "/home/pat/Projects/python-voxforge-download/512/akshay-20110708-tpa.tgz\n",
        "/home/pat/Projects/python-voxforge-download/512/BlueAgent-20120819-fjr.tgz"
       ]
      },
      {
       "output_type": "stream",
       "stream": "stdout",
       "text": [
        "\n",
        "/home/pat/Projects/python-voxforge-download/512/Bahoke-20130721-iux.tgz\n",
        "/home/pat/Projects/python-voxforge-download/512/aldobranti-20130208-krf.tgz\n",
        "/home/pat/Projects/python-voxforge-download/512/andrewg-20110130-aqj.tgz\n",
        "/home/pat/Projects/python-voxforge-download/512/allison-20120707-ogo.tgz\n",
        "/home/pat/Projects/python-voxforge-download/512/Berrym-20101102-aiv.tgz\n",
        "/home/pat/Projects/python-voxforge-download/512/akiplaner-20100207-mob.tgz"
       ]
      },
      {
       "output_type": "stream",
       "stream": "stdout",
       "text": [
        "\n",
        "/home/pat/Projects/python-voxforge-download/512/bjb-20120310.tgz\n",
        "/home/pat/Projects/python-voxforge-download/512/camdixon-20130819-cea.tgz\n",
        "/home/pat/Projects/python-voxforge-download/512/Andy212380-20141016-lzl.tgz\n",
        "/home/pat/Projects/python-voxforge-download/512/camdixon-20141207-fuk.tgz\n",
        "/home/pat/Projects/python-voxforge-download/512/azmisov-20140428-mjz.tgz"
       ]
      },
      {
       "output_type": "stream",
       "stream": "stdout",
       "text": [
        "\n",
        "/home/pat/Projects/python-voxforge-download/512/camdixon-20130819-gho.tgz\n",
        "/home/pat/Projects/python-voxforge-download/512/akhansson-20120423-ozf.tgz\n",
        "/home/pat/Projects/python-voxforge-download/512/ackermann-20101216-bpv.tgz\n",
        "/home/pat/Projects/python-voxforge-download/512/bigmbywater-20100821-wsn.tgz\n",
        "/home/pat/Projects/python-voxforge-download/512/bjb-20120409-cao.tgz\n",
        "/home/pat/Projects/python-voxforge-download/512/ae-20100821-aov.tgz"
       ]
      },
      {
       "output_type": "stream",
       "stream": "stdout",
       "text": [
        "\n",
        "/home/pat/Projects/python-voxforge-download/512/bendauphinee-20100423-vvc.tgz\n",
        "/home/pat/Projects/python-voxforge-download/512/bebe-20100419-gpw.tgz\n",
        "/home/pat/Projects/python-voxforge-download/512/anirban-20130910-imi.tgz\n",
        "/home/pat/Projects/python-voxforge-download/512/bjb-20120204.tgz\n",
        "/home/pat/Projects/python-voxforge-download/512/23yipikaye-20100807-ujm.tgz"
       ]
      },
      {
       "output_type": "stream",
       "stream": "stdout",
       "text": [
        "\n",
        "/home/pat/Projects/python-voxforge-download/512/azmisov-20140430-mqe.tgz\n",
        "/home/pat/Projects/python-voxforge-download/512/bluSch-20100525-bqg.tgz\n",
        "/home/pat/Projects/python-voxforge-download/512/bjb-20120324.tgz\n",
        "/home/pat/Projects/python-voxforge-download/512/atterer-01202007-b.tgz"
       ]
      },
      {
       "output_type": "stream",
       "stream": "stdout",
       "text": [
        "\n",
        "/home/pat/Projects/python-voxforge-download/512/bjb-20120218.tgz\n",
        "/home/pat/Projects/python-voxforge-download/512/BlueAgent-20120819-dok.tgz"
       ]
      },
      {
       "output_type": "stream",
       "stream": "stdout",
       "text": [
        "\n",
        "/home/pat/Projects/python-voxforge-download/512/bjb-20120311.tgz\n",
        "/home/pat/Projects/python-voxforge-download/512/camdixon-20130819-sfk.tgz\n",
        "/home/pat/Projects/python-voxforge-download/512/camdixon-20130819-gxo.tgz\n",
        "/home/pat/Projects/python-voxforge-download/512/AlexanderHenningDrachmann-20140108-vgf.tgz\n",
        "/home/pat/Projects/python-voxforge-download/512/Anniepoo-20140308-xot.tgz"
       ]
      },
      {
       "output_type": "stream",
       "stream": "stdout",
       "text": [
        "\n",
        "/home/pat/Projects/python-voxforge-download/512/azmisov-20140428-gjh.tgz\n",
        "/home/pat/Projects/python-voxforge-download/512/AslakKnutsen-20140314-scx.tgz\n",
        "/home/pat/Projects/python-voxforge-download/512/akiplaner-20100125-nle.tgz\n",
        "/home/pat/Projects/python-voxforge-download/512/Bahoke-20130721-unp.tgz"
       ]
      },
      {
       "output_type": "stream",
       "stream": "stdout",
       "text": [
        "\n",
        "/home/pat/Projects/python-voxforge-download/512/camdixon-20141207-fun.tgz\n",
        "/home/pat/Projects/python-voxforge-download/512/almotter-20110721-yaa.tgz\n",
        "/home/pat/Projects/python-voxforge-download/512/AJN-20131002-zcl.tgz\n",
        "/home/pat/Projects/python-voxforge-download/512/akhansson-20120423-upv.tgz\n",
        "/home/pat/Projects/python-voxforge-download/512/Bahoke-20130721-mba.tgz\n",
        "/home/pat/Projects/python-voxforge-download/512/camdixon-20130819-ypc.tgz"
       ]
      },
      {
       "output_type": "stream",
       "stream": "stdout",
       "text": [
        "\n",
        "/home/pat/Projects/python-voxforge-download/512/camdixon-20141207-gcv.tgz\n",
        "/home/pat/Projects/python-voxforge-download/512/bjb-20120217.tgz\n",
        "/home/pat/Projects/python-voxforge-download/512/akiplaner-20100215-qbw.tgz\n",
        "/home/pat/Projects/python-voxforge-download/512/camdixon-20130819-cua.tgz"
       ]
      },
      {
       "output_type": "stream",
       "stream": "stdout",
       "text": [
        "\n",
        "/home/pat/Projects/python-voxforge-download/512/camdixon-20130819-jii.tgz\n",
        "/home/pat/Projects/python-voxforge-download/512/akiplaner-20100215-cot.tgz\n",
        "/home/pat/Projects/python-voxforge-download/512/armond-20121229-wca.tgz\n",
        "/home/pat/Projects/python-voxforge-download/512/bae-20110617-vdq.tgz\n",
        "/home/pat/Projects/python-voxforge-download/512/BillMorgan-20120306-aef.tgz"
       ]
      },
      {
       "output_type": "stream",
       "stream": "stdout",
       "text": [
        "\n",
        "/home/pat/Projects/python-voxforge-download/512/camdixon-20130819-dhc.tgz\n",
        "/home/pat/Projects/python-voxforge-download/512/bread555-20100821-pyw.tgz\n",
        "/home/pat/Projects/python-voxforge-download/512/akiplaner-20100202-dvk.tgz\n",
        "/home/pat/Projects/python-voxforge-download/512/BlindPilot-20100610-kko.tgz\n",
        "/home/pat/Projects/python-voxforge-download/512/asalkeld-20111226-ets.tgz"
       ]
      },
      {
       "output_type": "stream",
       "stream": "stdout",
       "text": [
        "\n",
        "/home/pat/Projects/python-voxforge-download/512/bjb-20120409.tgz\n",
        "/home/pat/Projects/python-voxforge-download/512/AslakKnutsen-20140314-ukd.tgz\n",
        "/home/pat/Projects/python-voxforge-download/512/akiplaner-20100324-nhn.tgz\n",
        "/home/pat/Projects/python-voxforge-download/512/1028-20100710-hne.tgz"
       ]
      },
      {
       "output_type": "stream",
       "stream": "stdout",
       "text": [
        "\n",
        "/home/pat/Projects/python-voxforge-download/512/camdixon-20141207-bfn.tgz\n",
        "/home/pat/Projects/python-voxforge-download/512/camdixon-20141207-dbf.tgz\n",
        "/home/pat/Projects/python-voxforge-download/512/Bahoke-20130721-sjx.tgz\n",
        "/home/pat/Projects/python-voxforge-download/512/camdixon-20141207-bic.tgz\n",
        "/home/pat/Projects/python-voxforge-download/512/camdixon-20130819-jcd.tgz\n",
        "/home/pat/Projects/python-voxforge-download/512/bjb-20120304.tgz"
       ]
      },
      {
       "output_type": "stream",
       "stream": "stdout",
       "text": [
        "\n",
        "/home/pat/Projects/python-voxforge-download/512/Bahoke-20130721-wit.tgz\n",
        "/home/pat/Projects/python-voxforge-download/512/BobHallstrom-20150105-zdp.tgz\n",
        "/home/pat/Projects/python-voxforge-download/512/ajforesto4Christ-20120313-wgj.tgz\n",
        "/home/pat/Projects/python-voxforge-download/512/AndreyBarrientosCostaRica-20130709-ukl.tgz"
       ]
      },
      {
       "output_type": "stream",
       "stream": "stdout",
       "text": [
        "\n",
        "/home/pat/Projects/python-voxforge-download/512/akiplaner-20100315-oat.tgz\n",
        "/home/pat/Projects/python-voxforge-download/512/Anniepoo-20140308-byi.tgz\n",
        "/home/pat/Projects/python-voxforge-download/512/akhansson-20120423-rhi.tgz\n",
        "/home/pat/Projects/python-voxforge-download/512/azmisov-20140428-xml.tgz"
       ]
      },
      {
       "output_type": "stream",
       "stream": "stdout",
       "text": [
        "\n",
        "/home/pat/Projects/python-voxforge-download/512/AlexanderHenningDrachmann-20140108-mme.tgz\n",
        "/home/pat/Projects/python-voxforge-download/512/camdixon-20141207-ajo.tgz\n",
        "/home/pat/Projects/python-voxforge-download/512/almotter-20110721-naj.tgz\n",
        "/home/pat/Projects/python-voxforge-download/512/bjb-20120211.tgz\n",
        "/home/pat/Projects/python-voxforge-download/512/camdixon-20130819-kvp.tgz"
       ]
      },
      {
       "output_type": "stream",
       "stream": "stdout",
       "text": [
        "\n",
        "/home/pat/Projects/python-voxforge-download/512/azmisov-20140428-tth.tgz\n",
        "/home/pat/Projects/python-voxforge-download/512/AslakKnutsen-20140314-crb.tgz\n",
        "/home/pat/Projects/python-voxforge-download/512/becz03-20121205-yzd.tgz\n",
        "/home/pat/Projects/python-voxforge-download/512/bendra-20141108-xnz.tgz\n",
        "/home/pat/Projects/python-voxforge-download/512/akiplaner-20100718-fmq.tgz\n",
        "/home/pat/Projects/python-voxforge-download/512/camdixon-20130819-los.tgz"
       ]
      },
      {
       "output_type": "stream",
       "stream": "stdout",
       "text": [
        "\n",
        "/home/pat/Projects/python-voxforge-download/512/BradenJH-20110519-hvn.tgz\n",
        "/home/pat/Projects/python-voxforge-download/512/bread555-20100821-vqd.tgz\n",
        "/home/pat/Projects/python-voxforge-download/512/BrunoChagas-20140807-wmy.tgz\n",
        "/home/pat/Projects/python-voxforge-download/512/camdixon-20141207-diw.tgz\n",
        "/home/pat/Projects/python-voxforge-download/512/aglehg-20130430-nvw.tgz\n",
        "/home/pat/Projects/python-voxforge-download/512/camdixon-20141207-ckc.tgz"
       ]
      },
      {
       "output_type": "stream",
       "stream": "stdout",
       "text": [
        "\n",
        "/home/pat/Projects/python-voxforge-download/512/camdixon-20130819-owy.tgz\n",
        "/home/pat/Projects/python-voxforge-download/512/bendauphinee-20100423-rlg.tgz\n",
        "/home/pat/Projects/python-voxforge-download/512/ankit-20131213-xuv.tgz\n",
        "/home/pat/Projects/python-voxforge-download/512/anoldman-20110219-irb.tgz\n",
        "/home/pat/Projects/python-voxforge-download/512/camdixon-20130819-yuv.tgz\n",
        "/home/pat/Projects/python-voxforge-download/512/Bassel-20120209-xky.tgz"
       ]
      },
      {
       "output_type": "stream",
       "stream": "stdout",
       "text": [
        "\n",
        "/home/pat/Projects/python-voxforge-download/512/AslakKnutsen-20140315-tkd.tgz\n",
        "/home/pat/Projects/python-voxforge-download/512/arun-20100928-usw.tgz\n",
        "/home/pat/Projects/python-voxforge-download/512/camdixon-20141207-abe.tgz\n",
        "/home/pat/Projects/python-voxforge-download/512/bobriva123-20100611-cuz.tgz\n",
        "/home/pat/Projects/python-voxforge-download/512/Afzal-20110524-qsu.tgz"
       ]
      },
      {
       "output_type": "stream",
       "stream": "stdout",
       "text": [
        "\n",
        "/home/pat/Projects/python-voxforge-download/512/AbdulMoiz-20121010-juf.tgz\n",
        "/home/pat/Projects/python-voxforge-download/512/abhishek-20120110-qdn.tgz\n",
        "/home/pat/Projects/python-voxforge-download/512/AlexanderHenningDrachmann-20140108-dgf.tgz\n",
        "/home/pat/Projects/python-voxforge-download/512/bebe-20100421-xjv.tgz\n",
        "/home/pat/Projects/python-voxforge-download/512/atterer-01202007-a.tgz"
       ]
      },
      {
       "output_type": "stream",
       "stream": "stdout",
       "text": [
        "\n",
        "/home/pat/Projects/python-voxforge-download/512/akhansson-20120423-zbl.tgz\n",
        "/home/pat/Projects/python-voxforge-download/512/anap40-20120402-wto.tgz\n",
        "/home/pat/Projects/python-voxforge-download/512/bjb-20120225.tgz\n",
        "/home/pat/Projects/python-voxforge-download/512/ataru80-20120624-hfe.tgz"
       ]
      },
      {
       "output_type": "stream",
       "stream": "stdout",
       "text": [
        "\n",
        "/home/pat/Projects/python-voxforge-download/512/camdixon-20141207-dvx.tgz\n",
        "/home/pat/Projects/python-voxforge-download/512/1snoke-20120412-hge.tgz\n",
        "/home/pat/Projects/python-voxforge-download/512/Anniepoo-20140308-fcp.tgz\n",
        "/home/pat/Projects/python-voxforge-download/512/bjb-20120323.tgz\n",
        "/home/pat/Projects/python-voxforge-download/512/Adminvox-05232006.tgz"
       ]
      },
      {
       "output_type": "stream",
       "stream": "stdout",
       "text": [
        "\n",
        "/home/pat/Projects/python-voxforge-download/512/akhansson-20120423-hxy.tgz\n",
        "/home/pat/Projects/python-voxforge-download/512/brad-20100823-hie.tgz\n",
        "/home/pat/Projects/python-voxforge-download/512/asladic-20120203-dqw.tgz\n",
        "/home/pat/Projects/python-voxforge-download/512/anoldman-20110217-fbq.tgz\n",
        "/home/pat/Projects/python-voxforge-download/512/akhansson-20120423-bgv.tgz"
       ]
      },
      {
       "output_type": "stream",
       "stream": "stdout",
       "text": [
        "\n",
        "/home/pat/Projects/python-voxforge-download/512/BhushanNKIITBombay-20140219-bbj.tgz\n",
        "/home/pat/Projects/python-voxforge-download/512/AlexanderHenningDrachmann-20140108-vul.tgz\n",
        "/home/pat/Projects/python-voxforge-download/512/Caatbells-20111019-dqd.tgz\n",
        "/home/pat/Projects/python-voxforge-download/512/AlexanderHenningDrachmann-20140108-klh.tgz"
       ]
      },
      {
       "output_type": "stream",
       "stream": "stdout",
       "text": [
        "\n",
        "/home/pat/Projects/python-voxforge-download/512/camdixon-20130819-esf.tgz\n",
        "/home/pat/Projects/python-voxforge-download/512/asladic-20100311-tjx.tgz\n",
        "/home/pat/Projects/python-voxforge-download/512/camdixon-20130819-uxp.tgz\n",
        "/home/pat/Projects/python-voxforge-download/512/AlexanderHenningDrachmann-20140108-koe.tgz\n",
        "/home/pat/Projects/python-voxforge-download/512/bjb-20120124.tgz\n",
        "/home/pat/Projects/python-voxforge-download/512/azmisov-20140428-cyp.tgz"
       ]
      },
      {
       "output_type": "stream",
       "stream": "stdout",
       "text": [
        "\n",
        "/home/pat/Projects/python-voxforge-download/512/ajt13a-20140328-xyv.tgz\n",
        "/home/pat/Projects/python-voxforge-download/512/akiplaner-20110929-lbm.tgz\n",
        "/home/pat/Projects/python-voxforge-download/512/bebe-20100419-nrh.tgz\n",
        "/home/pat/Projects/python-voxforge-download/512/bjb-20120205.tgz\n",
        "/home/pat/Projects/python-voxforge-download/512/akiplaner-20100130-qpr.tgz"
       ]
      },
      {
       "output_type": "stream",
       "stream": "stdout",
       "text": [
        "\n",
        "/home/pat/Projects/python-voxforge-download/512/camdixon-20141207-fkk.tgz\n",
        "/home/pat/Projects/python-voxforge-download/512/314piwm-20130617-xuo.tgz\n",
        "/home/pat/Projects/python-voxforge-download/512/beady-20100219-xpq.tgz\n",
        "/home/pat/Projects/python-voxforge-download/512/alufers-20140918-gdm.tgz\n",
        "/home/pat/Projects/python-voxforge-download/512/AndreyBarrientosCostaRica-20130710-oqe.tgz"
       ]
      },
      {
       "output_type": "stream",
       "stream": "stdout",
       "text": [
        "\n",
        "/home/pat/Projects/python-voxforge-download/512/atterer-21012007-vf22.tgz\n",
        "/home/pat/Projects/python-voxforge-download/512/camdixon-20141207-dei.tgz\n",
        "/home/pat/Projects/python-voxforge-download/512/BFG-20120316-bdl.tgz"
       ]
      },
      {
       "output_type": "stream",
       "stream": "stdout",
       "text": [
        "\n",
        "/home/pat/Projects/python-voxforge-download/512/Andrew-20120826-wzg.tgz\n",
        "/home/pat/Projects/python-voxforge-download/512/akiplaner-20110928-oiw.tgz\n",
        "/home/pat/Projects/python-voxforge-download/512/camdixon-20141207-ezi.tgz\n",
        "/home/pat/Projects/python-voxforge-download/512/camdixon-20130819-vpy.tgz"
       ]
      },
      {
       "output_type": "stream",
       "stream": "stdout",
       "text": [
        "\n",
        "/home/pat/Projects/python-voxforge-download/512/arvala-20110103-nlb.tgz\n",
        "/home/pat/Projects/python-voxforge-download/512/AmolS-20140213-pvg.tgz\n",
        "/home/pat/Projects/python-voxforge-download/512/axllaruse-20140112-ced.tgz\n",
        "/home/pat/Projects/python-voxforge-download/512/Bahoke-20130721-qpx.tgz\n",
        "/home/pat/Projects/python-voxforge-download/512/benoliver999-20100207-jxe.tgz"
       ]
      },
      {
       "output_type": "stream",
       "stream": "stdout",
       "text": [
        "\n",
        "/home/pat/Projects/python-voxforge-download/512/camdixon-20130819-kfz.tgz\n",
        "/home/pat/Projects/python-voxforge-download/512/an4.tgz\n",
        "/home/pat/Projects/python-voxforge-download/512/akhansson-20120423-nxp.tgz"
       ]
      },
      {
       "output_type": "stream",
       "stream": "stdout",
       "text": [
        "\n",
        "/home/pat/Projects/python-voxforge-download/512/AslakKnutsen-20140314-hwr.tgz\n",
        "/home/pat/Projects/python-voxforge-download/512/Anniepoo-20140308-nky.tgz"
       ]
      },
      {
       "output_type": "stream",
       "stream": "stdout",
       "text": [
        "\n",
        "/home/pat/Projects/python-voxforge-download/512/akiplaner-20100207-mrt.tgz\n",
        "/home/pat/Projects/python-voxforge-download/512/bjb-20120317.tgz"
       ]
      },
      {
       "output_type": "stream",
       "stream": "stdout",
       "text": [
        "\n",
        "/home/pat/Projects/python-voxforge-download/512/camdixon-20130819-wve.tgz\n"
       ]
      }
     ],
     "prompt_number": 82
    },
    {
     "cell_type": "heading",
     "level": 2,
     "metadata": {},
     "source": [
      "Preprocess"
     ]
    },
    {
     "cell_type": "code",
     "collapsed": false,
     "input": [
      "import cPickle as pickle\n",
      "import numpy as np\n",
      "import scipy.io.wavfile as wav\n",
      "from numpy.lib import stride_tricks"
     ],
     "language": "python",
     "metadata": {},
     "outputs": [],
     "prompt_number": 18
    },
    {
     "cell_type": "code",
     "collapsed": false,
     "input": [
      "def get_subdirectories(rootdir):\n",
      "    return [x for x in os.walk(rootdir)][0][1]"
     ],
     "language": "python",
     "metadata": {},
     "outputs": [],
     "prompt_number": 19
    },
    {
     "cell_type": "code",
     "collapsed": false,
     "input": [
      "def get_relevant_files(rootdir, directories):\n",
      "    relevant_files = []\n",
      "    for directory in directories:\n",
      "        try:\n",
      "            wavpath = os.path.join(rootdir, directory, 'wav')\n",
      "            promptpath = os.path.join(rootdir, directory, 'etc/PROMPTS')\n",
      "            wav_files = os.listdir(wavpath)\n",
      "            relevant_files.append((promptpath, [os.path.join(wavpath, wav) for wav in wav_files]))\n",
      "        except:\n",
      "            pass\n",
      "    return relevant_files"
     ],
     "language": "python",
     "metadata": {},
     "outputs": [],
     "prompt_number": 20
    },
    {
     "cell_type": "code",
     "collapsed": false,
     "input": [],
     "language": "python",
     "metadata": {},
     "outputs": [],
     "prompt_number": 20
    },
    {
     "cell_type": "code",
     "collapsed": false,
     "input": [
      "def stft(sig, frameSize, overlapFac=0.5, window=np.hanning, n=None):\n",
      "    win = window(frameSize)\n",
      "    hopSize = int(frameSize - np.floor(overlapFac * frameSize))\n",
      "\n",
      "    # zeros at beginning (thus center of 1st window should be for sample nr. 0)\n",
      "    samples = np.append(np.zeros(np.floor(frameSize/2.0)), sig)\n",
      "    # cols for windowing\n",
      "    cols = np.ceil( (len(samples) - frameSize) / float(hopSize)) + 1\n",
      "    # zeros at end (thus samples can be fully covered by frames)\n",
      "    samples = np.append(samples, np.zeros(frameSize))\n",
      "\n",
      "    frames = stride_tricks.as_strided(samples, shape=(cols, frameSize), strides=(samples.strides[0]*hopSize, samples.strides[0])).copy()\n",
      "    frames *= win\n",
      "\n",
      "    return np.fft.rfft(frames, n)"
     ],
     "language": "python",
     "metadata": {},
     "outputs": [],
     "prompt_number": 21
    },
    {
     "cell_type": "code",
     "collapsed": false,
     "input": [
      "def logscale_spec(spec, sr=44100, factor=20.):\n",
      "    timebins, freqbins = np.shape(spec)\n",
      "\n",
      "    scale = np.linspace(0, 1, freqbins) ** factor\n",
      "    scale *= (freqbins-1)/max(scale)\n",
      "    scale = np.unique(np.round(scale))\n",
      "\n",
      "    # create spectrogram with new freq bins\n",
      "    newspec = np.complex128(np.zeros([timebins, len(scale)]))\n",
      "    for i in range(0, len(scale)):\n",
      "        if i == len(scale)-1:\n",
      "            newspec[:,i] = np.sum(spec[:,scale[i]:], axis=1)\n",
      "        else:\n",
      "            newspec[:,i] = np.sum(spec[:,scale[i]:scale[i+1]], axis=1)\n",
      "\n",
      "    # list center freq of bins\n",
      "    allfreqs = np.abs(np.fft.fftfreq(freqbins*2, 1./sr)[:freqbins+1])\n",
      "    freqs = []\n",
      "    for i in range(0, len(scale)):\n",
      "        if i == len(scale)-1:\n",
      "            freqs += [np.mean(allfreqs[scale[i]:])]\n",
      "        else:\n",
      "            freqs += [np.mean(allfreqs[scale[i]:scale[i+1]])]\n",
      "\n",
      "    return newspec, freqs"
     ],
     "language": "python",
     "metadata": {},
     "outputs": [],
     "prompt_number": 22
    },
    {
     "cell_type": "code",
     "collapsed": false,
     "input": [
      "def parse_audio(audiopath, binsize=512, nbins=159):\n",
      "    samplerate, samples = wav.read(audiopath)\n",
      "    s = stft(samples, binsize, n=nbins)\n",
      "\n",
      "    sshow, freq = logscale_spec(s, factor=1.0, sr=samplerate)\n",
      "    return np.abs(sshow)\n",
      "    #return 20.*np.log10(np.abs(sshow))[1:] # amplitude to decibel\n",
      "    #return 20.*np.log10(np.abs(sshow)/10e-6)[1:] # amplitude to decibel"
     ],
     "language": "python",
     "metadata": {},
     "outputs": [],
     "prompt_number": 23
    },
    {
     "cell_type": "code",
     "collapsed": false,
     "input": [
      "def plotstft(audiopath, binsize=512, plotpath=None, colormap=\"jet\", nbins=159):\n",
      "    samplerate, samples = wav.read(audiopath)\n",
      "    s = stft(samples, binsize, n=nbins)\n",
      "\n",
      "    #print np.shape(s)\n",
      "    \n",
      "    sshow, freq = logscale_spec(s, factor=1.0, sr=samplerate)\n",
      "    ims = 20.*np.log10(np.abs(sshow)/10e-6) # amplitude to decibel\n",
      "    \n",
      "    #print np.shape(ims)\n",
      "    #print ims[50]\n",
      "\n",
      "    timebins, freqbins = np.shape(ims)\n",
      "    \n",
      "    #print ims\n",
      "'''\n",
      "    plt.figure(figsize=(15, 7.5))\n",
      "    plt.imshow(np.transpose(ims), origin=\"lower\", aspect=\"auto\", cmap=colormap, interpolation=\"none\")\n",
      "    plt.colorbar()\n",
      "\n",
      "    plt.xlabel(\"time (s)\")\n",
      "    plt.ylabel(\"frequency (hz)\")\n",
      "    plt.xlim([0, timebins-1])\n",
      "    plt.ylim([0, freqbins])\n",
      "\n",
      "    xlocs = np.float32(np.linspace(0, timebins-1, 5))\n",
      "    plt.xticks(xlocs, [\"%.02f\" % l for l in ((xlocs*len(samples)/timebins)+(0.5*binsize))/samplerate])\n",
      "    ylocs = np.int16(np.round(np.linspace(0, freqbins-1, 10)))\n",
      "    plt.yticks(ylocs, [\"%.02f\" % freq[i] for i in ylocs])\n",
      "\n",
      "\n",
      "    #plt.show()'''"
     ],
     "language": "python",
     "metadata": {},
     "outputs": [
      {
       "metadata": {},
       "output_type": "pyout",
       "prompt_number": 24,
       "text": [
        "'\\n    plt.figure(figsize=(15, 7.5))\\n    plt.imshow(np.transpose(ims), origin=\"lower\", aspect=\"auto\", cmap=colormap, interpolation=\"none\")\\n    plt.colorbar()\\n\\n    plt.xlabel(\"time (s)\")\\n    plt.ylabel(\"frequency (hz)\")\\n    plt.xlim([0, timebins-1])\\n    plt.ylim([0, freqbins])\\n\\n    xlocs = np.float32(np.linspace(0, timebins-1, 5))\\n    plt.xticks(xlocs, [\"%.02f\" % l for l in ((xlocs*len(samples)/timebins)+(0.5*binsize))/samplerate])\\n    ylocs = np.int16(np.round(np.linspace(0, freqbins-1, 10)))\\n    plt.yticks(ylocs, [\"%.02f\" % freq[i] for i in ylocs])\\n\\n\\n    #plt.show()'"
       ]
      }
     ],
     "prompt_number": 24
    },
    {
     "cell_type": "code",
     "collapsed": false,
     "input": [
      "def plotall(rootdir):\n",
      "    directories = get_subdirectories(rootdir)\n",
      "    \n",
      "    file_groups = get_relevant_files(rootdir, directories)\n",
      "    \n",
      "    \n",
      "    for file_group in file_groups:\n",
      "        \n",
      "        try:\n",
      "\n",
      "\n",
      "            for wav_file in file_group[1]:\n",
      "                #spectro = parse_audio(wav_file)\n",
      "                \n",
      "                plotstft(wav_file)\n",
      "                \n",
      "        except:\n",
      "            pass"
     ],
     "language": "python",
     "metadata": {},
     "outputs": [],
     "prompt_number": 12
    },
    {
     "cell_type": "code",
     "collapsed": false,
     "input": [
      "def preprocess(rootdir):\n",
      "    directories = get_subdirectories(rootdir)\n",
      "    \n",
      "    file_groups = get_relevant_files(rootdir, directories)\n",
      "    \n",
      "    \n",
      "    for file_group in file_groups:\n",
      "        \n",
      "        try:\n",
      "        \n",
      "            audio_samples = []\n",
      "\n",
      "            # Dictionary of audio_file_ids:promts\n",
      "            prompt_ids = {}\n",
      "            with open(file_group[0], 'r') as prompts:\n",
      "                for line in prompts:\n",
      "                    segments = line.strip().split(' ', 1)\n",
      "\n",
      "                    prompt_ids[segments[0].split('/')[-1]] = segments[1].lower()\n",
      "\n",
      "            for wav_file in file_group[1]:\n",
      "                spectro = parse_audio(wav_file)\n",
      "\n",
      "                wavId = wav_file.split('/')[-1].split('.wav')[0]\n",
      "                #print wavId, prompt_ids[wavId], np.shape(spectro)\n",
      "                audio_samples.append((prompt_ids[wavId], spectro))\n",
      "\n",
      "            submissionid = file_group[0].split('/')[-3]\n",
      "\n",
      "            pickle.dump(audio_samples, open(os.path.join(rootdir, submissionid + '.pkl'), 'wb'))\n",
      "        except:\n",
      "            pass"
     ],
     "language": "python",
     "metadata": {},
     "outputs": [],
     "prompt_number": 25
    },
    {
     "cell_type": "code",
     "collapsed": false,
     "input": [
      "preprocess(directory)"
     ],
     "language": "python",
     "metadata": {},
     "outputs": [],
     "prompt_number": 26
    },
    {
     "cell_type": "code",
     "collapsed": false,
     "input": [
      "plotall(directory)"
     ],
     "language": "python",
     "metadata": {},
     "outputs": [
      {
       "output_type": "stream",
       "stream": "stderr",
       "text": [
        "-c:8: RuntimeWarning: divide by zero encountered in log10\n"
       ]
      }
     ],
     "prompt_number": 13
    },
    {
     "cell_type": "code",
     "collapsed": false,
     "input": [],
     "language": "python",
     "metadata": {},
     "outputs": []
    }
   ],
   "metadata": {}
  }
 ]
}