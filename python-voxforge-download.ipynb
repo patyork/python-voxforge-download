{
 "metadata": {
  "name": "",
  "signature": "sha256:28e64cb09de738c366400dfd6dfe3501df2a2195f69a8413645bcf4bc31b6687"
 },
 "nbformat": 3,
 "nbformat_minor": 0,
 "worksheets": [
  {
   "cells": [
    {
     "cell_type": "heading",
     "level": 1,
     "metadata": {},
     "source": [
      "VoxForge Download Helper"
     ]
    },
    {
     "cell_type": "heading",
     "level": 3,
     "metadata": {},
     "source": [
      "Tune the parameters below and Run All:"
     ]
    },
    {
     "cell_type": "markdown",
     "metadata": {},
     "source": [
      "**url**: the full URL of the VoxForge Repo from which you wish to download\n",
      "\n",
      "**directory**: the *existing* directory in which to store the downloaded files; defaults to a subdir of the CWD\n",
      "\n",
      "**allow_anonymous**: whether or not to download anonymous audio submissions\n",
      "\n",
      "**maximum**: the cutoff for the number of files to download"
     ]
    },
    {
     "cell_type": "code",
     "collapsed": false,
     "input": [
      "url = 'http://www.repository.voxforge1.org/downloads/SpeechCorpus/Trunk/Audio/Main/8kHz_16bit/?C=M;O=D'\n",
      "directory = 'audio'         # CWD/audio/\n",
      "allow_anonymous = False     # The quality of anonymous submissions may be doubtful\n",
      "maximum = -1                # The max number of files to download; -1 to download everything possible"
     ],
     "language": "python",
     "metadata": {},
     "outputs": [],
     "prompt_number": 1
    },
    {
     "cell_type": "code",
     "collapsed": false,
     "input": [
      "import requests    # Web downloader\n",
      "import bs4         # Web scraper\n",
      "import os          # Nice filepaths"
     ],
     "language": "python",
     "metadata": {},
     "outputs": [],
     "prompt_number": 2
    },
    {
     "cell_type": "code",
     "collapsed": false,
     "input": [
      "def get_source(url):\n",
      "    response = requests.get(url)\n",
      "    \n",
      "    base_url = url.split('?')[0]\n",
      "    \n",
      "    if response.status_code == 200: return (base_url, response.status_code, response.text.replace('</html>', '') + '</html>')\n",
      "    return (base_url, response.status_code, None)"
     ],
     "language": "python",
     "metadata": {},
     "outputs": [],
     "prompt_number": 3
    },
    {
     "cell_type": "code",
     "collapsed": false,
     "input": [
      "def extract_links(source):\n",
      "    soup = bs4.BeautifulSoup(source)\n",
      "    \n",
      "    links = soup.find_all('a')\n",
      "    \n",
      "    return [a.get('href') for a in links][12:-1]     # The beauty of static headers and footers"
     ],
     "language": "python",
     "metadata": {},
     "outputs": [],
     "prompt_number": 4
    },
    {
     "cell_type": "code",
     "collapsed": false,
     "input": [
      "def validate(links, allow_anon):\n",
      "    # If a database of already downloaded files exists\n",
      "    #  ..we just want to download new ones\n",
      "    try:\n",
      "        with open('existing', 'r') as f:\n",
      "            existing = [line.strip() for line in f]\n",
      "            \n",
      "            if allow_anon:\n",
      "                return [link for link in links if not (link in existing)]\n",
      "            else:\n",
      "                return [link for link in links if ((not link in existing) and (not 'anonymous' in link))]\n",
      "                \n",
      "    # else, return the list of links that we have so far\n",
      "    except:\n",
      "        return links"
     ],
     "language": "python",
     "metadata": {},
     "outputs": [],
     "prompt_number": 5
    },
    {
     "cell_type": "code",
     "collapsed": false,
     "input": [
      "def acquire(base_url, file_name, directory=''):\n",
      "    response = requests.get(base_url + file_name)\n",
      "    \n",
      "    if response.status_code == 200:\n",
      "        # Download and save\n",
      "        with open(os.path.join(directory, file_name), 'wb') as f:\n",
      "            f.write(response.content)\n",
      "            \n",
      "        # Save to the list of downloaded files\n",
      "        with open('existing', 'a') as f:\n",
      "            f.write(file_name + '\\n')\n",
      "            \n",
      "        return 1\n",
      "    return 0"
     ],
     "language": "python",
     "metadata": {},
     "outputs": [],
     "prompt_number": 6
    },
    {
     "cell_type": "code",
     "collapsed": false,
     "input": [
      "def batch_download(url, directory='', allow_anon=False, maximum=-1):\n",
      "    base_url, status, source = get_source(url)\n",
      "    if status != 200:\n",
      "        print 'Could not connect to', url\n",
      "        return\n",
      "    \n",
      "    links = extract_links(source)\n",
      "    if not len(links) > 0:\n",
      "        print 'No links found at url', url\n",
      "        \n",
      "    to_download = validate(links, allow_anon)\n",
      "    if not len(to_download) > 0:\n",
      "        print 'All available files have already been downloaded from', url\n",
      "        \n",
      "    # Lets download\n",
      "    counter = 0\n",
      "    for link in to_download:\n",
      "        result = acquire(base_url, link, directory)\n",
      "        \n",
      "        counter += result\n",
      "        \n",
      "        if result==0: print 'Unable to download', link\n",
      "        elif counter == maximum: return\n",
      "        "
     ],
     "language": "python",
     "metadata": {},
     "outputs": [],
     "prompt_number": 7
    },
    {
     "cell_type": "code",
     "collapsed": false,
     "input": [
      "batch_download(url, directory, allow_anonymous, maximum)"
     ],
     "language": "python",
     "metadata": {},
     "outputs": [],
     "prompt_number": 26
    }
   ],
   "metadata": {}
  }
 ]
}